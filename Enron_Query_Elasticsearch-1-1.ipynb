{
  "cells": [
    {
      "cell_type": "code",
      "execution_count": 1,
      "metadata": {
        "colab": {
          "base_uri": "https://localhost:8080/",
          "height": 34
        },
        "id": "wDCRVtiXGS3k",
        "outputId": "08f9ea61-8a38-4c16-c8d1-52e80691fa1c"
      },
      "outputs": [
        {
          "data": {
            "text/plain": [
              "b'yellow open enron jbf7NNxzRySs9hlNbHp-4Q 1 1 251734 27940 572.8mb 572.8mb\\n'"
            ]
          },
          "execution_count": 1,
          "metadata": {},
          "output_type": "execute_result"
        }
      ],
      "source": [
        "import requests\n",
        "import pandas\n",
        "from dateutil import parser\n",
        "host = 'http://18.188.56.207:9200/'\n",
        "requests.get(host + '_cat/indices/enron').content"
      ]
    },
    {
      "cell_type": "code",
      "execution_count": 2,
      "metadata": {
        "colab": {
          "base_uri": "https://localhost:8080/",
          "height": 34
        },
        "id": "usPZo8sRGS3q",
        "outputId": "2ab70edb-622e-471e-bfda-6c315670b1bc"
      },
      "outputs": [
        {
          "name": "stdout",
          "output_type": "stream",
          "text": [
            "10\n"
          ]
        }
      ],
      "source": [
        "doc = {\n",
        "    \"query\" : {\n",
        "        \"match_all\" : {}\n",
        "    }\n",
        "}\n",
        "import json\n",
        "r=requests.get(host + 'enron/_search', data=json.dumps(doc), headers={'Content-Type':'application/json'})\n",
        "print(len(r.json()['hits']['hits']))"
      ]
    },
    {
      "cell_type": "code",
      "execution_count": 3,
      "metadata": {
        "id": "L-lcMiQfGS3v"
      },
      "outputs": [],
      "source": [
        "def elasticsearch_results_to_df(results):\n",
        "    '''\n",
        "    A function that will take the results of a requests.get \n",
        "    call to Elasticsearch and return a pandas.DataFrame object \n",
        "    with the results \n",
        "    '''\n",
        "    hits = results.json()['hits']['hits']\n",
        "    data = pandas.DataFrame([i['_source'] for i in hits], index = [i['_id'] for i in hits])\n",
        "    data['date'] = data['date'].apply(parser.parse)\n",
        "    return(data)\n",
        "\n",
        "def print_df_row(row):\n",
        "    '''\n",
        "    A function that will take a row of the data frame and print it out\n",
        "    '''\n",
        "    print('____________________')\n",
        "    print('RE: %s' % row.get('subject',''))\n",
        "    print('At: %s' % row.get('date',''))\n",
        "    print('From: %s' % row.get('sender',''))\n",
        "    print('To: %s' % row.get('recipients',''))\n",
        "    print('CC: %s' % row.get('cc',''))\n",
        "    print('BCC: %s' % row.get('bcc',''))\n",
        "    print('Body:\\n%s' % row.get('text',''))\n",
        "    print('____________________')\n"
      ]
    },
    {
      "cell_type": "code",
      "execution_count": 4,
      "metadata": {
        "colab": {
          "base_uri": "https://localhost:8080/",
          "height": 462
        },
        "id": "q7k93M9nGS30",
        "outputId": "bc973c2c-be3b-48f8-a919-b194e5acb9a7"
      },
      "outputs": [
        {
          "name": "stdout",
          "output_type": "stream",
          "text": [
            "                        date   \n",
            "28 2002-01-14 22:55:37+00:00  \\\n",
            "29 2002-01-10 12:38:33+00:00   \n",
            "30 2000-04-12 11:51:00+00:00   \n",
            "31 2001-10-23 05:49:55+00:00   \n",
            "32 2001-01-10 14:41:00+00:00   \n",
            "33 2002-03-05 12:54:21+00:00   \n",
            "34 2000-11-07 12:16:00+00:00   \n",
            "35 2002-01-25 22:14:42+00:00   \n",
            "36 2001-10-29 21:44:33+00:00   \n",
            "37 2001-10-12 21:08:23+00:00   \n",
            "\n",
            "                                                 text   \n",
            "28  Steve, \\n\\nI know that we are meeting with Mik...  \\\n",
            "29  \\n============================================...   \n",
            "30  FYI\\n---------------------- Forwarded by Shell...   \n",
            "31  \\n\\n_____________________DAVID COURSEY________...   \n",
            "32  Content-Transfer-Encoding: 7bit\\nReturn-Path: ...   \n",
            "33  \\n[IMAGE] Forums Discuss these points in the F...   \n",
            "34  Why is the fact that I'm moving down there mak...   \n",
            "35  \\n\\n-----Original Message-----\\nFrom: KSchier@...   \n",
            "36  Hi John,\\n\\nHere is the information you were l...   \n",
            "37  When: Thursday, October 18, 2001 9:00 AM-11:00...   \n",
            "\n",
            "                                     sender   \n",
            "28                kimberly.watson@enron.com  \\\n",
            "29           clearbot@clearmail2.etrade.com   \n",
            "30                 shelley.corman@enron.com   \n",
            "31  anchordesk_daily@anchordesk.zdlists.com   \n",
            "32                        lillahmay@aol.com   \n",
            "33                       info@forexnews.com   \n",
            "34                katie.trullinger@wfsg.com   \n",
            "35                 shelley.corman@enron.com   \n",
            "36                savita.puthigai@enron.com   \n",
            "37                  linda.roberts@enron.com   \n",
            "\n",
            "                                           recipients   \n",
            "28                            steven.harris@enron.com  \\\n",
            "29                kensey_subscriber@mailman.enron.com   \n",
            "30                           stanley.horton@enron.com   \n",
            "31                                   pallen@enron.com   \n",
            "32  alex3325@yahoo.com  ogorekbartosz@home.com  ry...   \n",
            "33                          sara.shackleton@enron.com   \n",
            "34                              mark.guzman@enron.com   \n",
            "35                                   cormanerb@cs.com   \n",
            "36                              john.arnold@enron.com   \n",
            "37  brian.redmond@enron.com  a..martin@enron.com  ...   \n",
            "\n",
            "                                              subject  \n",
            "28                                                FW:  \n",
            "29  (ClearStation) Recommendation : GNSS (Long) by...  \n",
            "30   Background Materials for the INGAA Board Meeting  \n",
            "31  XP countdown: More of your top questions answered  \n",
            "32                                          Fwd: Life  \n",
            "33                                 US Trading Preview  \n",
            "34                                 RE: FW: What's up?  \n",
            "35                                             FW: Hi  \n",
            "36  FW: Top 50 Counterparties by Volume - US GAS a...  \n",
            "37      Texas General Land Office Management Proposal  \n",
            "____________________\n",
            "RE: FW:\n",
            "At: 2002-01-14 22:55:37+00:00\n",
            "From: kimberly.watson@enron.com\n",
            "To: steven.harris@enron.com\n",
            "CC: \n",
            "BCC: \n",
            "Body:\n",
            "Steve, \n",
            "\n",
            "I know that we are meeting with Mike Stage and group tomorrow at 3:00.  I've been trying to talk with Jo and will do so this Wednesday regarding transportation on the KB line to NNG/TW Gray.\n",
            "\n",
            "Kim.  \n",
            "\n",
            " -----Original Message-----\n",
            "From: \tWatson, Kimberly  \n",
            "Sent:\tMonday, January 14, 2002 4:53 PM\n",
            "To:\tWilliams, Jo\n",
            "Subject:\tRE: \n",
            "\n",
            "Jo, Let's talk on Wednesday at 3:00.  I can call you.\n",
            "\n",
            "Thanks, Kim.\n",
            "\n",
            " -----Original Message-----\n",
            "From: \tWilliams, Jo  \n",
            "Sent:\tMonday, January 14, 2002 3:41 PM\n",
            "To:\tWatson, Kimberly\n",
            "Cc:\tMercaldo, Vernon\n",
            "Subject:\tRE: \n",
            "\n",
            "Tomorrow or Wednesday looks better to me....tomorrow I am available from 1:30 to 2:00, Wednesday anytime after 2:30 p.m.\n",
            "\n",
            "Vernon is working on putting some numbers together....we should have that ready for the meeting.\n",
            "\n",
            "Let me know what time works for you.\n",
            "\n",
            " -----Original Message-----\n",
            "From: \tWatson, Kimberly  \n",
            "Sent:\tMonday, January 14, 2002 2:05 PM\n",
            "To:\tWilliams, Jo\n",
            "Subject:\t\n",
            "\n",
            "Jo, I wanted to follow up with you on the O&M charges and transportation capacity from Halley to Gray.  Do you have some telephone time available soon?\n",
            "\n",
            "I'm available late today after 4:00 or tomorrow before 10:30 or from 1:30-3:00 or Wed anytime pm.  \n",
            "\n",
            "Thanks, Kim. \n",
            "____________________\n"
          ]
        }
      ],
      "source": [
        "# Put elasticsearch results into a pandas.DataFrame object\n",
        "df = elasticsearch_results_to_df(r)\n",
        "print(df)\n",
        "print_df_row(df.iloc[0])"
      ]
    },
    {
      "cell_type": "code",
      "execution_count": 5,
      "metadata": {
        "colab": {
          "base_uri": "https://localhost:8080/",
          "height": 717
        },
        "id": "2teqoyC2GS34",
        "outputId": "3205a4cb-cb8b-4af3-dc6c-23ff142e8461"
      },
      "outputs": [
        {
          "name": "stdout",
          "output_type": "stream",
          "text": [
            "Found {'value': 10000, 'relation': 'gte'} messages matching the query, of \n",
            "Returned 2000 messages\n",
            "____________________\n",
            "RE: RE: Reporting replication issue is now fixed\n",
            "At: 2001-10-09 17:11:18+00:00\n",
            "From: lynn.blair@enron.com\n",
            "To: jennifer.lowry@enron.com  group.dl-ets@enron.com\n",
            "CC: nan\n",
            "BCC: nan\n",
            "Body:\n",
            "\tJennifer, how long has this been a problem?  Is there a concern we have caused\n",
            "\tcustomers problems in nominating due to bad information?  Thanks. Lynn\n",
            "\n",
            " -----Original Message-----\n",
            "From: \tLowry, Jennifer   \n",
            "Sent:\tTuesday, October 09, 2001 10:11 AM\n",
            "To:\tDL-ETS TMS Modification Group\n",
            "Subject:\tReporting replication issue is now fixed\n",
            "\n",
            "\n",
            "Yesterday we noticed a problem where reports were not reporting on the correct cycle, or were not picking up information between cycles.  As it turns out, an important table was not being replicated from the application database to the reporting database.  \n",
            "\n",
            "I was told that this problem has been fixed, and on first inspection of the tables, everything looks correct.\n",
            "____________________\n"
          ]
        }
      ],
      "source": [
        "# Query For a full text match in the \"text\" field\n",
        "# Uses the \"match\" query: https://www.elastic.co/guide/en/elasticsearch/reference/current/query-dsl-match-query.html\n",
        "doc = {\n",
        "    \"query\": {\n",
        "        \"match\" : {\n",
        "            \"text\" : \"important reporting\"\n",
        "        } \n",
        "    },\n",
        "    \"from\" : 0, # Starting message to return. \n",
        "    \"size\" : 2000, # Return this many messages. Can't be more than 10,000\n",
        "}\n",
        "r=requests.get(host + 'enron/_search',\n",
        "               data=json.dumps(doc), headers={'Content-Type':'application/json'})\n",
        "r.raise_for_status()\n",
        "print(\"Found %s messages matching the query, of \" % r.json()['hits']['total'])\n",
        "df = elasticsearch_results_to_df(r)\n",
        "print(\"Returned %s messages\" % df.shape[0])\n",
        "print_df_row(df.iloc[0])"
      ]
    },
    {
      "cell_type": "code",
      "execution_count": null,
      "metadata": {
        "colab": {
          "base_uri": "https://localhost:8080/",
          "height": 921
        },
        "id": "UbzY2Pg5GS38",
        "outputId": "39f176a4-2e5a-4bfc-ae5c-bce8a7d222e3"
      },
      "outputs": [
        {
          "name": "stdout",
          "output_type": "stream",
          "text": [
            "Found {'value': 281, 'relation': 'eq'} messages matching the query, of \n",
            "Returned 10 messages\n",
            "____________________\n",
            "RE: RE: ENS - Draft Form of Acceptance\n",
            "At: 2001-11-27 09:18:22+00:00\n",
            "From: krzysztof.forycki@enron.com\n",
            "To: ed.cattigan@enron.com  jarek.astramowicz@enron.com  adam.overfield@enron.com  anne.edgley@enron.com  lloyd.wantschek@enron.com  james.derrick@enron.com\n",
            "CC: jacek.glowacki@enron.com  sophie.martin@enron.com  christian.hackett@enron.com  carys.willott@enron.com  brian.muscroft@enron.com  e..parrish@enron.com\n",
            "BCC: jacek.glowacki@enron.com  sophie.martin@enron.com  christian.hackett@enron.com  carys.willott@enron.com  brian.muscroft@enron.com  e..parrish@enron.com\n",
            "Body:\n",
            "I agree with Ed proposal to accept the settlement.\n",
            "\n",
            "Kris\n",
            "\n",
            "-----Original Message-----\n",
            "From: Cattigan, Ed \n",
            "Sent: 26 November 2001 15:30\n",
            "To: Astramowicz, Jarek; Overfield, Adam; Forycki, Krzysztof; Edgley,\n",
            "Anne; Wantschek, Lloyd; Derrick Jr., James\n",
            "Cc: Glowacki, Jacek; Martin, Sophie; Hackett, Christian; Willott, Carys;\n",
            "Muscroft, Brian; Parrish, Paul E.\n",
            "Subject: FW: ENS - Draft Form of Acceptance\n",
            "\n",
            "\n",
            "Good Afternoon\n",
            "\n",
            "Attached are 2 documents in relation to final Settlement of the outstanding Delay in Start up (relating to the replacement of the previously damaged rotor) claim. One is a detailed history of the claim and the other a final acceptance notice proposed by the brokers.\n",
            "\n",
            "I have been negotiating the outstanding portion of the claim now for nearly 9 months and believe that due to the circumstance surrounding the late delivery of the rotor and the advice of external council this settlement is acceptable to ENS. Will you please advise wether you agree with accepting this sum as full and final settlement.\n",
            " \n",
            "In way of context this settlement is $750k of a possible $901k an 83% success on a claim we had been advised would not have been worth taking to arbitration if the insurers had become difficult.\n",
            "\n",
            "regards\n",
            "\n",
            "Ed  \n",
            "\n",
            "Sophie. Could you please confirm that you are happy with the wording of the acceptance notice. \n",
            "NOTE I would really like to complete this by Wednesday this week as this is my last week.\n",
            "\n",
            "\n",
            "-----Original Message-----\n",
            "From: BODIMEADE, Alfred [mailto:ABodimeade@heathlambert.com]\n",
            "Sent: 26 November 2001 10:34\n",
            "To: 'Ed Cattigan'\n",
            "Subject: FW: ENS - Draft Form of Acceptance\n",
            "\n",
            "\n",
            "Ed\n",
            "Let me know a.s.a.p. if you have any problem.\n",
            "I think the figures are correct.\n",
            "Alf\n",
            "____________________\n"
          ]
        }
      ],
      "source": [
        "# Query For a text match in the \"text\" or \"subject\" fields. Uses the multi-match query:\n",
        "# https://www.elastic.co/guide/en/elasticsearch/reference/current/query-dsl-multi-match-query.html\n",
        "doc = {\n",
        "  \"query\": {\n",
        "    \"multi_match\" : {\n",
        "      \"query\":    \"settlement\", \n",
        "      \"fields\": [ \"subject\", \"text\" ] \n",
        "    }\n",
        "  }\n",
        "}\n",
        "r=requests.get(host + 'enron/_search',\n",
        "               data=json.dumps(doc), headers={'Content-Type':'application/json'})\n",
        "r.raise_for_status()\n",
        "print(\"Found %s messages matching the query, of \" % r.json()['hits']['total'])\n",
        "df = elasticsearch_results_to_df(r)\n",
        "print(\"Returned %s messages\" % df.shape[0])\n",
        "print_df_row(df.iloc[9])"
      ]
    },
    {
      "cell_type": "code",
      "execution_count": null,
      "metadata": {
        "colab": {
          "base_uri": "https://localhost:8080/",
          "height": 700
        },
        "id": "K87Pbc9KGS3_",
        "outputId": "f11f884b-92df-4780-9081-98f730ba4e9d"
      },
      "outputs": [
        {
          "name": "stdout",
          "output_type": "stream",
          "text": [
            "Found 10000 messages matching the query, of \n",
            "Returned 10 messages\n",
            "____________________\n",
            "RE: Settlement Conversation Recap\n",
            "At: 2002-05-02 18:26:52+00:00\n",
            "From: michael.bridges@enron.com\n",
            "To: koikosp@talgov.com\n",
            "CC: chris.germany@enron.com\n",
            "BCC: chris.germany@enron.com\n",
            "Body:\n",
            "Hi Pete,\n",
            "\n",
            "Wanted to recap our conversation yesterday, update you on our timing and get you my contact information.\n",
            "\n",
            "Regarding a possible settlement, it appears to me that this is a concept that you have considered and are willing to pursue.  We will have a valuation of the contract for you Monday.  It is my suggestion that you review the proposal, make sure that you agree with the outstanding transactions and complete your own valuation.  Once we have agreed on the universe of transactions, you and I will discuss and finalize a settlement amount that we are comfortable will be approved by the creditor committee and bankruptcy judge.\n",
            "\n",
            "From this point, Enron will begin the process of filing a motion for settlement and schedule an appropriate hearing date for the judge to rule.  Please seek bankruptcy council to determine if it will be necessary for a representative from your company to attend and, as well, to be comfortable with the process.\n",
            "\n",
            "Finally, we will provide you a sample Release Letter for your review.  We will seek your comments, if any, prior to the hearing date.  After the settlement motion is filed, we would ask that there are no more document or value negotiations in order to expedite closure.\n",
            "\n",
            "All of that said, concurrently, in case you and I are not able to reach agreement on a settlement amount, we are going to take the first step in an auction process.  This means that I am going to send you a procedural Notice of an anticipated auction to sell your contract as we discussed yesterday.  It is our desire to settle this prior to an auction taking place.  The settlement process is our preferred route of resolution.  Please call me if you have any questions regarding this.\n",
            "\n",
            "Please, call me with any questions and let's work hard at keeping an open dialog so that we can resolve this to both of our mutual benefits.  I have included my contact information at the end of this email-- if you could return this email with your mailing address, I would appreciate it.  Also, I look forward to working with you through this process, and finally, thank you for your time and attention to this matter.\n",
            "\n",
            "Sincerely,\n",
            "\n",
            "Mike Bridges\n",
            "\n",
            "\n",
            "\n",
            "Mike Bridges\n",
            "phone:  713-345-4079\n",
            "fax:\t713-646-3037\n",
            "email:\tmichael.bridges@enron.com\n",
            "\n",
            "1400 Smith Street\n",
            "ECN 0602d\n",
            "Houston, TX 77002\n",
            "____________________\n"
          ]
        }
      ],
      "source": [
        "# \"OR\" query for two phrase matches. Generally you get fancy query parsing with this:\n",
        "# https://www.elastic.co/guide/en/elasticsearch/reference/current/query-dsl-query-string-query.html\n",
        "doc = {\n",
        "    \"query\": {\n",
        "        \"query_string\" : {\n",
        "            \"default_field\" : \"text\",\n",
        "            \"query\" : \"(reach a settlement) OR (continue to pursue)\" \n",
        "        }\n",
        "    }\n",
        "}\n",
        "r=requests.get(host + 'enron/_search',\n",
        "               data=json.dumps(doc), headers={'Content-Type':'application/json'})\n",
        "r.raise_for_status()\n",
        "print(\"Found %s messages matching the query\" % r.json()['hits']['total']['value'])\n",
        "df = elasticsearch_results_to_df(r)\n",
        "print(\"Returned %s messages\" % df.shape[0])\n",
        "print_df_row(df.iloc[0])"
      ]
    },
    {
      "cell_type": "code",
      "execution_count": null,
      "metadata": {
        "id": "x8IudAe6GS4D",
        "outputId": "0cbf74da-0271-441d-bedb-4ea242e0342c"
      },
      "outputs": [
        {
          "data": {
            "text/plain": [
              "date                                  2001-05-31 11:21:00+00:00\n",
              "recipients    lisa.mellencamp@enron.com  mary.heinitz@enron....\n",
              "sender                                      kate.cole@enron.com\n",
              "subject                     FW: Sale of East Coast Power L.L.C.\n",
              "text          Please note that an additional subsidiary was ...\n",
              "Name: 21281, dtype: object"
            ]
          },
          "execution_count": 71,
          "metadata": {
            "tags": []
          },
          "output_type": "execute_result"
        }
      ],
      "source": [
        "df.iloc[9]"
      ]
    },
    {
      "cell_type": "code",
      "execution_count": null,
      "metadata": {
        "colab": {
          "base_uri": "https://localhost:8080/",
          "height": 748
        },
        "id": "SYNs9pQNGS4F",
        "outputId": "a5e21e0e-53c8-4a57-a58d-6ac7b45569b7"
      },
      "outputs": [
        {
          "name": "stdout",
          "output_type": "stream",
          "text": [
            "                         date  doc_count\n",
            "228 1999-01-01 00:00:00+00:00          8\n",
            "229 1999-02-01 00:00:00+00:00          1\n",
            "230 1999-03-01 00:00:00+00:00          7\n",
            "231 1999-04-01 00:00:00+00:00          2\n",
            "232 1999-05-01 00:00:00+00:00         35\n",
            "233 1999-06-01 00:00:00+00:00         24\n",
            "234 1999-07-01 00:00:00+00:00         45\n",
            "235 1999-08-01 00:00:00+00:00         41\n",
            "236 1999-09-01 00:00:00+00:00         74\n",
            "237 1999-10-01 00:00:00+00:00         67\n",
            "238 1999-11-01 00:00:00+00:00         64\n",
            "239 1999-12-01 00:00:00+00:00        131\n",
            "240 2000-01-01 00:00:00+00:00        200\n",
            "241 2000-02-01 00:00:00+00:00        245\n",
            "242 2000-03-01 00:00:00+00:00        261\n",
            "243 2000-04-01 00:00:00+00:00        289\n",
            "244 2000-05-01 00:00:00+00:00        328\n",
            "245 2000-06-01 00:00:00+00:00        512\n",
            "246 2000-07-01 00:00:00+00:00        449\n",
            "247 2000-08-01 00:00:00+00:00        641\n",
            "248 2000-09-01 00:00:00+00:00        711\n",
            "249 2000-10-01 00:00:00+00:00        796\n",
            "250 2000-11-01 00:00:00+00:00       1089\n",
            "251 2000-12-01 00:00:00+00:00       1021\n",
            "252 2001-01-01 00:00:00+00:00        840\n",
            "253 2001-02-01 00:00:00+00:00        805\n",
            "254 2001-03-01 00:00:00+00:00       1081\n",
            "255 2001-04-01 00:00:00+00:00       1369\n",
            "256 2001-05-01 00:00:00+00:00       1714\n",
            "257 2001-06-01 00:00:00+00:00       1138\n",
            "258 2001-07-01 00:00:00+00:00        704\n",
            "259 2001-08-01 00:00:00+00:00        849\n",
            "260 2001-09-01 00:00:00+00:00        905\n",
            "261 2001-10-01 00:00:00+00:00       2790\n",
            "262 2001-11-01 00:00:00+00:00       2213\n",
            "263 2001-12-01 00:00:00+00:00        984\n",
            "264 2002-01-01 00:00:00+00:00       1603\n",
            "265 2002-02-01 00:00:00+00:00        637\n",
            "266 2002-03-01 00:00:00+00:00        310\n",
            "267 2002-04-01 00:00:00+00:00         96\n",
            "268 2002-05-01 00:00:00+00:00         66\n",
            "269 2002-06-01 00:00:00+00:00         84\n"
          ]
        }
      ],
      "source": [
        "# Do a count of all documents in the database by month\n",
        "doc = {\n",
        "    \"aggs\" : {\n",
        "        \"aggregation_var_name\" : {\n",
        "            \"date_histogram\" : {\n",
        "                \"field\" : \"date\",\n",
        "                \"interval\" : \"month\"\n",
        "            }\n",
        "        }\n",
        "    }\n",
        "}\n",
        "r=requests.get(host + 'enron/_search',\n",
        "               data=json.dumps(doc), headers={'Content-Type':'application/json'})\n",
        "r.raise_for_status()\n",
        "def aggregation_to_df(response,var_name='aggregation_var_name'):\n",
        "    r = response.json()\n",
        "    r['aggregations'][var_name]\n",
        "    df = pandas.DataFrame(r['aggregations'][var_name]['buckets'])\n",
        "    df['date'] = df['key_as_string'].apply(parser.parse)\n",
        "    df = df[(df['date'] >= '1999-01-1') & (df['date'] < '2002-07-01')]\n",
        "    df = df[['date','doc_count']]\n",
        "    return df\n",
        "df = aggregation_to_df(r)\n",
        "print(df)"
      ]
    },
    {
      "cell_type": "code",
      "execution_count": null,
      "metadata": {
        "colab": {
          "base_uri": "https://localhost:8080/",
          "height": 748
        },
        "id": "3T5IWPrAGS4J",
        "outputId": "bb51e59c-395c-4de5-e8b3-5d6037ad43eb"
      },
      "outputs": [
        {
          "name": "stdout",
          "output_type": "stream",
          "text": [
            "                         date  doc_count\n",
            "228 1999-01-01 00:00:00+00:00          2\n",
            "229 1999-02-01 00:00:00+00:00          0\n",
            "230 1999-03-01 00:00:00+00:00          0\n",
            "231 1999-04-01 00:00:00+00:00          0\n",
            "232 1999-05-01 00:00:00+00:00          4\n",
            "233 1999-06-01 00:00:00+00:00          0\n",
            "234 1999-07-01 00:00:00+00:00          3\n",
            "235 1999-08-01 00:00:00+00:00          1\n",
            "236 1999-09-01 00:00:00+00:00          2\n",
            "237 1999-10-01 00:00:00+00:00          0\n",
            "238 1999-11-01 00:00:00+00:00          5\n",
            "239 1999-12-01 00:00:00+00:00          6\n",
            "240 2000-01-01 00:00:00+00:00          6\n",
            "241 2000-02-01 00:00:00+00:00         14\n",
            "242 2000-03-01 00:00:00+00:00         16\n",
            "243 2000-04-01 00:00:00+00:00          4\n",
            "244 2000-05-01 00:00:00+00:00         14\n",
            "245 2000-06-01 00:00:00+00:00         19\n",
            "246 2000-07-01 00:00:00+00:00         21\n",
            "247 2000-08-01 00:00:00+00:00         35\n",
            "248 2000-09-01 00:00:00+00:00         31\n",
            "249 2000-10-01 00:00:00+00:00         39\n",
            "250 2000-11-01 00:00:00+00:00         52\n",
            "251 2000-12-01 00:00:00+00:00         46\n",
            "252 2001-01-01 00:00:00+00:00         30\n",
            "253 2001-02-01 00:00:00+00:00         26\n",
            "254 2001-03-01 00:00:00+00:00         52\n",
            "255 2001-04-01 00:00:00+00:00         53\n",
            "256 2001-05-01 00:00:00+00:00        112\n",
            "257 2001-06-01 00:00:00+00:00         68\n",
            "258 2001-07-01 00:00:00+00:00         52\n",
            "259 2001-08-01 00:00:00+00:00         42\n",
            "260 2001-09-01 00:00:00+00:00         65\n",
            "261 2001-10-01 00:00:00+00:00        174\n",
            "262 2001-11-01 00:00:00+00:00        141\n",
            "263 2001-12-01 00:00:00+00:00         48\n",
            "264 2002-01-01 00:00:00+00:00         82\n",
            "265 2002-02-01 00:00:00+00:00         28\n",
            "266 2002-03-01 00:00:00+00:00         10\n",
            "267 2002-04-01 00:00:00+00:00          1\n",
            "268 2002-05-01 00:00:00+00:00          1\n",
            "269 2002-06-01 00:00:00+00:00          6\n"
          ]
        }
      ],
      "source": [
        "# Do a count of all documents matching a query by month\n",
        "doc = {\n",
        "    \"query\": {\n",
        "        \"match\" : {\n",
        "            \"text\" : \"important reporting\"\n",
        "        }\n",
        "    },\n",
        "    \"aggs\" : {\n",
        "        \"aggregation_var_name\" : {\n",
        "            \"date_histogram\" : {\n",
        "                \"field\" : \"date\",\n",
        "                \"interval\" : \"month\"\n",
        "            }\n",
        "        }\n",
        "    }\n",
        "}\n",
        "r=requests.get(host + 'enron/_search',\n",
        "               data=json.dumps(doc), headers={'Content-Type':'application/json'})\n",
        "r.raise_for_status()\n",
        "df = aggregation_to_df(r)\n",
        "print(df)"
      ]
    },
    {
      "cell_type": "code",
      "execution_count": null,
      "metadata": {
        "colab": {
          "base_uri": "https://localhost:8080/",
          "height": 411
        },
        "id": "inNJYYxIGS4M",
        "outputId": "f71fd695-f7bc-42c5-b505-4b2535ad0e69"
      },
      "outputs": [
        {
          "name": "stdout",
          "output_type": "stream",
          "text": [
            "Found 3 messages matching the query, of \n",
            "Returned 3 messages\n",
            "____________________\n",
            "RE: Data Request\n",
            "At: 2001-03-23 22:13:53+00:00\n",
            "From: thomas.meers@enron.com\n",
            "To: stephen.schwarzbach@enron.com\n",
            "CC: tracy.geaccone@enron.com\n",
            "BCC: tracy.geaccone@enron.com\n",
            "Body:\n",
            "\n",
            "Steve,\n",
            "\n",
            "The attached files contain the headcount and G&A costs information you requested based on the 2001 Plan.  My apologies for not getting this to you sooner.  Please note that this information is representative of the three Clean Fuels companies but is based on my interpretation of what you wanted included within a particular line item.  Feel free to call me with any questions or comments you may have regarding this data.\n",
            "\n",
            "Thanks,\n",
            "\tTom Meers   X54899\n",
            "\n",
            "\n",
            "\n",
            "  \n",
            "____________________\n"
          ]
        }
      ],
      "source": [
        "# Search an exact match in a specific feild\n",
        "doc = {\n",
        "    \"query\": {\n",
        "        \"match\" : {\n",
        "            \"recipients\" : \"stephen.schwarzbach@enron.com\"\n",
        "        } \n",
        "    },\n",
        "}\n",
        "r=requests.get(host + 'enron/_search',\n",
        "               data=json.dumps(doc), headers={'Content-Type':'application/json'})\n",
        "r.raise_for_status()\n",
        "print(\"Found %s messages matching the query, of \" % r.json()['hits']['total']['value'])\n",
        "df = elasticsearch_results_to_df(r)\n",
        "print(\"Returned %s messages\" % df.shape[0])\n",
        "print_df_row(df.iloc[0])"
      ]
    },
    {
      "cell_type": "code",
      "execution_count": null,
      "metadata": {
        "id": "FySeID6rGS4O"
      },
      "outputs": [],
      "source": []
    }
  ],
  "metadata": {
    "colab": {
      "collapsed_sections": [],
      "name": "Enron Query Elasticsearch.ipynb",
      "provenance": []
    },
    "kernelspec": {
      "display_name": "Python 3",
      "language": "python",
      "name": "python3"
    },
    "language_info": {
      "codemirror_mode": {
        "name": "ipython",
        "version": 3
      },
      "file_extension": ".py",
      "mimetype": "text/x-python",
      "name": "python",
      "nbconvert_exporter": "python",
      "pygments_lexer": "ipython3",
      "version": "3.9.13"
    }
  },
  "nbformat": 4,
  "nbformat_minor": 0
}
