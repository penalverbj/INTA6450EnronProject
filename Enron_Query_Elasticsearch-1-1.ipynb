{
  "cells": [
    {
      "cell_type": "code",
      "execution_count": 1,
      "metadata": {
        "colab": {
          "base_uri": "https://localhost:8080/",
          "height": 34
        },
        "id": "wDCRVtiXGS3k",
        "outputId": "08f9ea61-8a38-4c16-c8d1-52e80691fa1c"
      },
      "outputs": [
        {
          "data": {
            "text/plain": [
              "b'yellow open enron WtsTmsTpRw6kcHbnT4BA7Q 1 1 251734 32 505.4mb 505.4mb\\n'"
            ]
          },
          "execution_count": 1,
          "metadata": {},
          "output_type": "execute_result"
        }
      ],
      "source": [
        "import requests\n",
        "import pandas\n",
        "from dateutil import parser\n",
        "host = 'http://18.188.56.207:9200/'\n",
        "requests.get(host + '_cat/indices/enron').content"
      ]
    },
    {
      "cell_type": "code",
      "execution_count": 3,
      "metadata": {
        "colab": {
          "base_uri": "https://localhost:8080/",
          "height": 34
        },
        "id": "usPZo8sRGS3q",
        "outputId": "2ab70edb-622e-471e-bfda-6c315670b1bc"
      },
      "outputs": [
        {
          "name": "stdout",
          "output_type": "stream",
          "text": [
            "10000\n"
          ]
        }
      ],
      "source": [
        "doc = {\n",
        "    \"size\": 10000,\n",
        "    \"from\": 0,\n",
        "    \"query\" : {\n",
        "        \"match_all\" : {}\n",
        "    }\n",
        "}\n",
        "import json\n",
        "r=requests.get(host + 'enron/_search', data=json.dumps(doc), headers={'Content-Type':'application/json'})\n",
        "print(len(r.json()['hits']['hits']))"
      ]
    },
    {
      "cell_type": "code",
      "execution_count": 4,
      "metadata": {
        "id": "L-lcMiQfGS3v"
      },
      "outputs": [],
      "source": [
        "def elasticsearch_results_to_df(results):\n",
        "    '''\n",
        "    A function that will take the results of a requests.get \n",
        "    call to Elasticsearch and return a pandas.DataFrame object \n",
        "    with the results \n",
        "    '''\n",
        "    hits = results.json()['hits']['hits']\n",
        "    data = pandas.DataFrame([i['_source'] for i in hits], index = [i['_id'] for i in hits])\n",
        "    data['date'] = data['date'].apply(parser.parse)\n",
        "    return(data)\n",
        "\n",
        "def print_df_row(row):\n",
        "    '''\n",
        "    A function that will take a row of the data frame and print it out\n",
        "    '''\n",
        "    print('____________________')\n",
        "    print('RE: %s' % row.get('subject',''))\n",
        "    print('At: %s' % row.get('date',''))\n",
        "    print('From: %s' % row.get('sender',''))\n",
        "    print('To: %s' % row.get('recipients',''))\n",
        "    print('CC: %s' % row.get('cc',''))\n",
        "    print('BCC: %s' % row.get('bcc',''))\n",
        "    print('Body:\\n%s' % row.get('text',''))\n",
        "    print('____________________')\n"
      ]
    },
    {
      "cell_type": "code",
      "execution_count": 5,
      "metadata": {
        "colab": {
          "base_uri": "https://localhost:8080/",
          "height": 462
        },
        "id": "q7k93M9nGS30",
        "outputId": "bc973c2c-be3b-48f8-a919-b194e5acb9a7"
      },
      "outputs": [
        {
          "data": {
            "text/html": [
              "<div>\n",
              "<style scoped>\n",
              "    .dataframe tbody tr th:only-of-type {\n",
              "        vertical-align: middle;\n",
              "    }\n",
              "\n",
              "    .dataframe tbody tr th {\n",
              "        vertical-align: top;\n",
              "    }\n",
              "\n",
              "    .dataframe thead th {\n",
              "        text-align: right;\n",
              "    }\n",
              "</style>\n",
              "<table border=\"1\" class=\"dataframe\">\n",
              "  <thead>\n",
              "    <tr style=\"text-align: right;\">\n",
              "      <th></th>\n",
              "      <th>sender</th>\n",
              "      <th>recipients</th>\n",
              "      <th>cc</th>\n",
              "      <th>text</th>\n",
              "      <th>bcc</th>\n",
              "      <th>date</th>\n",
              "      <th>subject</th>\n",
              "    </tr>\n",
              "  </thead>\n",
              "  <tbody>\n",
              "    <tr>\n",
              "      <th>78</th>\n",
              "      <td>sally.beck@enron.com</td>\n",
              "      <td>sharron.westbrook@enron.com</td>\n",
              "      <td>christina.valdez@enron.com</td>\n",
              "      <td>I have an ENW budget review meeting with EGM (...</td>\n",
              "      <td>christina.valdez@enron.com</td>\n",
              "      <td>2001-10-10 23:30:04+00:00</td>\n",
              "      <td>RE: Time change</td>\n",
              "    </tr>\n",
              "    <tr>\n",
              "      <th>79</th>\n",
              "      <td>david.port@enron.com</td>\n",
              "      <td>greg.whalley@enron.com</td>\n",
              "      <td>rick.buy@enron.com  vince.kaminski@enron.com</td>\n",
              "      <td>Here is a draft position report we talked abou...</td>\n",
              "      <td>rick.buy@enron.com  vince.kaminski@enron.com</td>\n",
              "      <td>2001-04-05 14:26:00+00:00</td>\n",
              "      <td>Position Report</td>\n",
              "    </tr>\n",
              "    <tr>\n",
              "      <th>80</th>\n",
              "      <td>noreply@ccomad3.uu.commissioner.com</td>\n",
              "      <td>dutch.quigley@enron.com</td>\n",
              "      <td>NaN</td>\n",
              "      <td>\\n[IMAGE] \\t\\n Battle your friends for glory i...</td>\n",
              "      <td>NaN</td>\n",
              "      <td>2001-10-24 10:45:24+00:00</td>\n",
              "      <td>Commissioner.COM E-Reports for UHFFL 10/24/01</td>\n",
              "    </tr>\n",
              "    <tr>\n",
              "      <th>81</th>\n",
              "      <td>debra.perlingiere@enron.com</td>\n",
              "      <td>kaye.ellis@enron.com</td>\n",
              "      <td>NaN</td>\n",
              "      <td>FINE WITH ME\\n\\nDebra Perlingiere\\nEnron North...</td>\n",
              "      <td>NaN</td>\n",
              "      <td>2001-02-06 15:10:00+00:00</td>\n",
              "      <td>Re: Vacation Day, Friday, February 16</td>\n",
              "    </tr>\n",
              "    <tr>\n",
              "      <th>82</th>\n",
              "      <td>dale.surbey@enron.com</td>\n",
              "      <td>kate.bruges@enron.com</td>\n",
              "      <td>anjam.ahmad@enron.com  vince.kaminski@enron.com</td>\n",
              "      <td>Kate,\\n\\nHas the paperwork been finalized yet?...</td>\n",
              "      <td>anjam.ahmad@enron.com  vince.kaminski@enron.com</td>\n",
              "      <td>2000-07-26 10:54:00+00:00</td>\n",
              "      <td>Re: Sharad Agnihotri</td>\n",
              "    </tr>\n",
              "  </tbody>\n",
              "</table>\n",
              "</div>"
            ],
            "text/plain": [
              "                                 sender                   recipients   \n",
              "78                 sally.beck@enron.com  sharron.westbrook@enron.com  \\\n",
              "79                 david.port@enron.com       greg.whalley@enron.com   \n",
              "80  noreply@ccomad3.uu.commissioner.com      dutch.quigley@enron.com   \n",
              "81          debra.perlingiere@enron.com         kaye.ellis@enron.com   \n",
              "82                dale.surbey@enron.com        kate.bruges@enron.com   \n",
              "\n",
              "                                                 cc   \n",
              "78                       christina.valdez@enron.com  \\\n",
              "79     rick.buy@enron.com  vince.kaminski@enron.com   \n",
              "80                                              NaN   \n",
              "81                                              NaN   \n",
              "82  anjam.ahmad@enron.com  vince.kaminski@enron.com   \n",
              "\n",
              "                                                 text   \n",
              "78  I have an ENW budget review meeting with EGM (...  \\\n",
              "79  Here is a draft position report we talked abou...   \n",
              "80  \\n[IMAGE] \\t\\n Battle your friends for glory i...   \n",
              "81  FINE WITH ME\\n\\nDebra Perlingiere\\nEnron North...   \n",
              "82  Kate,\\n\\nHas the paperwork been finalized yet?...   \n",
              "\n",
              "                                                bcc                      date   \n",
              "78                       christina.valdez@enron.com 2001-10-10 23:30:04+00:00  \\\n",
              "79     rick.buy@enron.com  vince.kaminski@enron.com 2001-04-05 14:26:00+00:00   \n",
              "80                                              NaN 2001-10-24 10:45:24+00:00   \n",
              "81                                              NaN 2001-02-06 15:10:00+00:00   \n",
              "82  anjam.ahmad@enron.com  vince.kaminski@enron.com 2000-07-26 10:54:00+00:00   \n",
              "\n",
              "                                          subject  \n",
              "78                                RE: Time change  \n",
              "79                                Position Report  \n",
              "80  Commissioner.COM E-Reports for UHFFL 10/24/01  \n",
              "81          Re: Vacation Day, Friday, February 16  \n",
              "82                           Re: Sharad Agnihotri  "
            ]
          },
          "execution_count": 5,
          "metadata": {},
          "output_type": "execute_result"
        }
      ],
      "source": [
        "# Put elasticsearch results into a pandas.DataFrame object\n",
        "df = elasticsearch_results_to_df(r)\n",
        "df.head()\n",
        "# print(df)\n",
        "# print_df_row(df.iloc[0])"
      ]
    },
    {
      "cell_type": "code",
      "execution_count": 5,
      "metadata": {
        "colab": {
          "base_uri": "https://localhost:8080/",
          "height": 717
        },
        "id": "2teqoyC2GS34",
        "outputId": "3205a4cb-cb8b-4af3-dc6c-23ff142e8461"
      },
      "outputs": [
        {
          "name": "stdout",
          "output_type": "stream",
          "text": [
            "Found {'value': 10000, 'relation': 'gte'} messages matching the query, of \n",
            "Returned 2000 messages\n",
            "____________________\n",
            "RE: RE: Reporting replication issue is now fixed\n",
            "At: 2001-10-09 17:11:18+00:00\n",
            "From: lynn.blair@enron.com\n",
            "To: jennifer.lowry@enron.com  group.dl-ets@enron.com\n",
            "CC: nan\n",
            "BCC: nan\n",
            "Body:\n",
            "\tJennifer, how long has this been a problem?  Is there a concern we have caused\n",
            "\tcustomers problems in nominating due to bad information?  Thanks. Lynn\n",
            "\n",
            " -----Original Message-----\n",
            "From: \tLowry, Jennifer   \n",
            "Sent:\tTuesday, October 09, 2001 10:11 AM\n",
            "To:\tDL-ETS TMS Modification Group\n",
            "Subject:\tReporting replication issue is now fixed\n",
            "\n",
            "\n",
            "Yesterday we noticed a problem where reports were not reporting on the correct cycle, or were not picking up information between cycles.  As it turns out, an important table was not being replicated from the application database to the reporting database.  \n",
            "\n",
            "I was told that this problem has been fixed, and on first inspection of the tables, everything looks correct.\n",
            "____________________\n"
          ]
        }
      ],
      "source": [
        "# Query For a full text match in the \"text\" field\n",
        "# Uses the \"match\" query: https://www.elastic.co/guide/en/elasticsearch/reference/current/query-dsl-match-query.html\n",
        "doc = {\n",
        "    \"query\": {\n",
        "        \"match\" : {\n",
        "            \"text\" : \"important reporting\"\n",
        "        } \n",
        "    },\n",
        "    \"from\" : 0, # Starting message to return. \n",
        "    \"size\" : 2000, # Return this many messages. Can't be more than 10,000\n",
        "}\n",
        "r=requests.get(host + 'enron/_search',\n",
        "               data=json.dumps(doc), headers={'Content-Type':'application/json'})\n",
        "r.raise_for_status()\n",
        "print(\"Found %s messages matching the query, of \" % r.json()['hits']['total'])\n",
        "df = elasticsearch_results_to_df(r)\n",
        "print(\"Returned %s messages\" % df.shape[0])\n",
        "print_df_row(df.iloc[0])"
      ]
    },
    {
      "cell_type": "code",
      "execution_count": 6,
      "metadata": {
        "colab": {
          "base_uri": "https://localhost:8080/",
          "height": 921
        },
        "id": "UbzY2Pg5GS38",
        "outputId": "39f176a4-2e5a-4bfc-ae5c-bce8a7d222e3"
      },
      "outputs": [
        {
          "name": "stdout",
          "output_type": "stream",
          "text": [
            "Found {'value': 4102, 'relation': 'eq'} messages matching the query, of \n",
            "Returned 10 messages\n",
            "____________________\n",
            "RE: Status of final statements and replacement invoices\n",
            "At: 2001-10-24 01:34:50+00:00\n",
            "From: thailu@ercot.com\n",
            "To: jackson.amie@enron.com  pratka.amy@enron.com  mitrey.andy@enron.com  williams.angela@enron.com  garza.beth@enron.com  palmer.bill@enron.com  cooper.bob@enron.com  edwards.brady@enron.com  green.brenda@enron.com  smith.carl@enron.com  smith.carl@enron.com  carey.dan@enron.com  sarti.dan@enron.com  leger.dana@enron.com  wessels.david@enron.com  pawlik.debbie@enron.com  bailey.debra@enron.com  dyc.dennis@enron.com  slover.eric@enron.com  nitschmann.frances@enron.com  herndon.gary@enron.com  geissler.ginger@enron.com  striedel.james@enron.com  holland.janet@enron.com  jeffrey.miller@enron.com  doyas.jenny@enron.com  burt.jerry@enron.com  barker.joe@enron.com  favalora.joe@enron.com  forney.john@enron.com  fitzmaurice.kathy@enron.com  minear.kelly@enron.com  koliba.kim@enron.com  star.lee@enron.com  master.linda@enron.com  jones.lisa@enron.com  ramirez.liz@enron.com  kinner.lora@enron.com  rubenstein.marc@enron.com  colby.maria@enron.com  gardner.maria@enron.com  deane.marianne@enron.com  nealy.marice@enron.com  wright.mark@enron.com  murphy.martha@enron.com  bulk.max@enron.com  michael.jacobson@enron.com  coyle.mike@enron.com  tejada.mike@enron.com  vogelei.pat@enron.com  krebs.paul@enron.com  paul.radous@enron.com  pavluk.peter@enron.com  robinson.phillip@enron.com  ganesh.ramesh@enron.com  hager.rhonda@enron.com  rucker.rick@enron.com  vick.rick@enron.com  williamson.rick@enron.com  day.rosalie@enron.com  davis.sam@enron.com  eubank.sandra@enron.com  wagner.shannon@enron.com  mcknight.shonda@enron.com  francois.sonya@enron.com  schamel.stacy@enron.com  mullen.stephanie@enron.com  potters.susan@enron.com  nikazm.tamila@enron.com  ho.thomas@enron.com  a..allen@enron.com  white.tom@enron.com  martin.troy@enron.com  petrov.valentin@enron.com  kuhn.walt@enron.com\n",
            "CC: clientreps@ercot.com  settlebilling@ercot.com  clientreps@ercot.com  grendel@enron.com  --migrated--sgrendel@ercot.com  bojorquez@enron.com  bbojorquez@ercot.com  noel@enron.com  tnoel@ercot.com  jones@enron.com  sjones@ercot.com  tindall@enron.com  htindall@ercot.com  scsleads@ercot.com  buckles@enron.com  mbuckles@ercot.com  saathoff@enron.com  ksaathoff@ercot.com\n",
            "BCC: clientreps@ercot.com  settlebilling@ercot.com  clientreps@ercot.com  grendel@enron.com  --migrated--sgrendel@ercot.com  bojorquez@enron.com  bbojorquez@ercot.com  noel@enron.com  tnoel@ercot.com  jones@enron.com  sjones@ercot.com  tindall@enron.com  htindall@ercot.com  scsleads@ercot.com  buckles@enron.com  mbuckles@ercot.com  saathoff@enron.com  ksaathoff@ercot.com\n",
            "Body:\n",
            "\n",
            "This is an update on publication of QSE settlement invoices and statements as of today, October 23, 2001.  ERCOT has published a replacement invoice to add final settlement statements to the previously issued invoice with a due date of 10/29/01.  This invoice was previously published with initial settlement statements for trade days of 09/14/01 through 09/20/01.  The replacement invoice adds final settlement statements for trade days 08/03/01 through 08/09/01 to this invoice.  The replacement invoice was posted to the portal on 10/18/01.  \n",
            "ERCOT has also published a replacement invoice to add final settlement statements to the previously issued invoice with a due date of 11/05/01.  This invoice was previously published with initial settlement statements for trade days of  09/21/01 through 09/27/01 .  The replacement invoice adds final settlement statements for trade days 08/10/01 through 08/16/01 to this invoice. The replacement invoice was posted to the portal today.  \n",
            "Please update your records to replace the previously issued invoices and process any payments due ERCOT as per the replacement invoices.  ERCOT will process the any payments due to QSEs as per the replacement invoices.\n",
            "Final settlement statements through 08/16 are currently posted. \n",
            "Ted  Hailu \n",
            "Client Relations Manager \n",
            "Electric Reliability Council of Texas \n",
            "E-mail: Thailu@ercot.com \n",
            "Telephone: (512) 248-3873 \n",
            "____________________\n"
          ]
        }
      ],
      "source": [
        "# Query For a text match in the \"text\" or \"subject\" fields. Uses the multi-match query:\n",
        "# https://www.elastic.co/guide/en/elasticsearch/reference/current/query-dsl-multi-match-query.html\n",
        "doc = {\n",
        "  \"query\": {\n",
        "    \"multi_match\" : {\n",
        "      \"query\":    \"settlement\", \n",
        "      \"fields\": [ \"subject\", \"text\" ] \n",
        "    }\n",
        "  }\n",
        "}\n",
        "r=requests.get(host + 'enron/_search',\n",
        "               data=json.dumps(doc), headers={'Content-Type':'application/json'})\n",
        "r.raise_for_status()\n",
        "print(\"Found %s messages matching the query, of \" % r.json()['hits']['total'])\n",
        "df = elasticsearch_results_to_df(r)\n",
        "print(\"Returned %s messages\" % df.shape[0])\n",
        "print_df_row(df.iloc[9])"
      ]
    },
    {
      "cell_type": "code",
      "execution_count": 7,
      "metadata": {
        "colab": {
          "base_uri": "https://localhost:8080/",
          "height": 700
        },
        "id": "K87Pbc9KGS3_",
        "outputId": "f11f884b-92df-4780-9081-98f730ba4e9d"
      },
      "outputs": [
        {
          "name": "stdout",
          "output_type": "stream",
          "text": [
            "Found 10000 messages matching the query\n",
            "Returned 10 messages\n",
            "____________________\n",
            "RE: Settlement Conversation Recap\n",
            "At: 2002-05-02 18:26:52+00:00\n",
            "From: michael.bridges@enron.com\n",
            "To: koikosp@talgov.com\n",
            "CC: chris.germany@enron.com\n",
            "BCC: chris.germany@enron.com\n",
            "Body:\n",
            "Hi Pete,\n",
            "\n",
            "Wanted to recap our conversation yesterday, update you on our timing and get you my contact information.\n",
            "\n",
            "Regarding a possible settlement, it appears to me that this is a concept that you have considered and are willing to pursue.  We will have a valuation of the contract for you Monday.  It is my suggestion that you review the proposal, make sure that you agree with the outstanding transactions and complete your own valuation.  Once we have agreed on the universe of transactions, you and I will discuss and finalize a settlement amount that we are comfortable will be approved by the creditor committee and bankruptcy judge.\n",
            "\n",
            "From this point, Enron will begin the process of filing a motion for settlement and schedule an appropriate hearing date for the judge to rule.  Please seek bankruptcy council to determine if it will be necessary for a representative from your company to attend and, as well, to be comfortable with the process.\n",
            "\n",
            "Finally, we will provide you a sample Release Letter for your review.  We will seek your comments, if any, prior to the hearing date.  After the settlement motion is filed, we would ask that there are no more document or value negotiations in order to expedite closure.\n",
            "\n",
            "All of that said, concurrently, in case you and I are not able to reach agreement on a settlement amount, we are going to take the first step in an auction process.  This means that I am going to send you a procedural Notice of an anticipated auction to sell your contract as we discussed yesterday.  It is our desire to settle this prior to an auction taking place.  The settlement process is our preferred route of resolution.  Please call me if you have any questions regarding this.\n",
            "\n",
            "Please, call me with any questions and let's work hard at keeping an open dialog so that we can resolve this to both of our mutual benefits.  I have included my contact information at the end of this email-- if you could return this email with your mailing address, I would appreciate it.  Also, I look forward to working with you through this process, and finally, thank you for your time and attention to this matter.\n",
            "\n",
            "Sincerely,\n",
            "\n",
            "Mike Bridges\n",
            "\n",
            "\n",
            "\n",
            "Mike Bridges\n",
            "phone:  713-345-4079\n",
            "fax:\t713-646-3037\n",
            "email:\tmichael.bridges@enron.com\n",
            "\n",
            "1400 Smith Street\n",
            "ECN 0602d\n",
            "Houston, TX 77002\n",
            "____________________\n"
          ]
        }
      ],
      "source": [
        "# \"OR\" query for two phrase matches. Generally you get fancy query parsing with this:\n",
        "# https://www.elastic.co/guide/en/elasticsearch/reference/current/query-dsl-query-string-query.html\n",
        "doc = {\n",
        "    \"query\": {\n",
        "        \"query_string\" : {\n",
        "            \"default_field\" : \"text\",\n",
        "            \"query\" : \"(reach a settlement) OR (continue to pursue)\" \n",
        "        }\n",
        "    }\n",
        "}\n",
        "r=requests.get(host + 'enron/_search',\n",
        "               data=json.dumps(doc), headers={'Content-Type':'application/json'})\n",
        "r.raise_for_status()\n",
        "print(\"Found %s messages matching the query\" % r.json()['hits']['total']['value'])\n",
        "df = elasticsearch_results_to_df(r)\n",
        "print(\"Returned %s messages\" % df.shape[0])\n",
        "print_df_row(df.iloc[0])"
      ]
    },
    {
      "cell_type": "code",
      "execution_count": 8,
      "metadata": {
        "id": "x8IudAe6GS4D",
        "outputId": "0cbf74da-0271-441d-bedb-4ea242e0342c"
      },
      "outputs": [
        {
          "data": {
            "text/plain": [
              "sender                                    w..cantrell@enron.com\n",
              "recipients    d..steffes@enron.com  leslie.lawner@enron.com ...\n",
              "cc                                                          NaN\n",
              "text          \\nNGI's Daily Gas Price Index \\npublished : Au...\n",
              "bcc                                                         NaN\n",
              "date                                  2001-08-31 14:44:25+00:00\n",
              "subject       NGI Article:  ALJ Advocates Money Settlement i...\n",
              "Name: 95720, dtype: object"
            ]
          },
          "execution_count": 8,
          "metadata": {},
          "output_type": "execute_result"
        }
      ],
      "source": [
        "df.iloc[9]"
      ]
    },
    {
      "cell_type": "code",
      "execution_count": 9,
      "metadata": {
        "colab": {
          "base_uri": "https://localhost:8080/",
          "height": 748
        },
        "id": "SYNs9pQNGS4F",
        "outputId": "a5e21e0e-53c8-4a57-a58d-6ac7b45569b7"
      },
      "outputs": [
        {
          "name": "stdout",
          "output_type": "stream",
          "text": [
            "                         date  doc_count\n",
            "228 1999-01-01 00:00:00+00:00         65\n",
            "229 1999-02-01 00:00:00+00:00         43\n",
            "230 1999-03-01 00:00:00+00:00         50\n",
            "231 1999-04-01 00:00:00+00:00         45\n",
            "232 1999-05-01 00:00:00+00:00        338\n",
            "233 1999-06-01 00:00:00+00:00        327\n",
            "234 1999-07-01 00:00:00+00:00        446\n",
            "235 1999-08-01 00:00:00+00:00        509\n",
            "236 1999-09-01 00:00:00+00:00        588\n",
            "237 1999-10-01 00:00:00+00:00        643\n",
            "238 1999-11-01 00:00:00+00:00        594\n",
            "239 1999-12-01 00:00:00+00:00       1248\n",
            "240 2000-01-01 00:00:00+00:00       2142\n",
            "241 2000-02-01 00:00:00+00:00       2471\n",
            "242 2000-03-01 00:00:00+00:00       3001\n",
            "243 2000-04-01 00:00:00+00:00       2991\n",
            "244 2000-05-01 00:00:00+00:00       3718\n",
            "245 2000-06-01 00:00:00+00:00       4820\n",
            "246 2000-07-01 00:00:00+00:00       4493\n",
            "247 2000-08-01 00:00:00+00:00       6200\n",
            "248 2000-09-01 00:00:00+00:00       6872\n",
            "249 2000-10-01 00:00:00+00:00       8273\n",
            "250 2000-11-01 00:00:00+00:00      10617\n",
            "251 2000-12-01 00:00:00+00:00       9989\n",
            "252 2001-01-01 00:00:00+00:00       8212\n",
            "253 2001-02-01 00:00:00+00:00       8387\n",
            "254 2001-03-01 00:00:00+00:00      10503\n",
            "255 2001-04-01 00:00:00+00:00      13726\n",
            "256 2001-05-01 00:00:00+00:00      16845\n",
            "257 2001-06-01 00:00:00+00:00      11141\n",
            "258 2001-07-01 00:00:00+00:00       7353\n",
            "259 2001-08-01 00:00:00+00:00       8044\n",
            "260 2001-09-01 00:00:00+00:00       8963\n",
            "261 2001-10-01 00:00:00+00:00      27691\n",
            "262 2001-11-01 00:00:00+00:00      22077\n",
            "263 2001-12-01 00:00:00+00:00       9535\n",
            "264 2002-01-01 00:00:00+00:00      16341\n",
            "265 2002-02-01 00:00:00+00:00       6484\n",
            "266 2002-03-01 00:00:00+00:00       2875\n",
            "267 2002-04-01 00:00:00+00:00        951\n",
            "268 2002-05-01 00:00:00+00:00        748\n",
            "269 2002-06-01 00:00:00+00:00        744\n"
          ]
        }
      ],
      "source": [
        "# Do a count of all documents in the database by month\n",
        "doc = {\n",
        "    \"aggs\" : {\n",
        "        \"aggregation_var_name\" : {\n",
        "            \"date_histogram\" : {\n",
        "                \"field\" : \"date\",\n",
        "                \"interval\" : \"month\"\n",
        "            }\n",
        "        }\n",
        "    }\n",
        "}\n",
        "r=requests.get(host + 'enron/_search',\n",
        "               data=json.dumps(doc), headers={'Content-Type':'application/json'})\n",
        "r.raise_for_status()\n",
        "def aggregation_to_df(response,var_name='aggregation_var_name'):\n",
        "    r = response.json()\n",
        "    r['aggregations'][var_name]\n",
        "    df = pandas.DataFrame(r['aggregations'][var_name]['buckets'])\n",
        "    df['date'] = df['key_as_string'].apply(parser.parse)\n",
        "    df = df[(df['date'] >= '1999-01-1') & (df['date'] < '2002-07-01')]\n",
        "    df = df[['date','doc_count']]\n",
        "    return df\n",
        "df = aggregation_to_df(r)\n",
        "print(df)"
      ]
    },
    {
      "cell_type": "code",
      "execution_count": 10,
      "metadata": {
        "colab": {
          "base_uri": "https://localhost:8080/",
          "height": 748
        },
        "id": "3T5IWPrAGS4J",
        "outputId": "bb51e59c-395c-4de5-e8b3-5d6037ad43eb"
      },
      "outputs": [
        {
          "name": "stdout",
          "output_type": "stream",
          "text": [
            "                         date  doc_count\n",
            "228 1999-01-01 00:00:00+00:00         12\n",
            "229 1999-02-01 00:00:00+00:00          7\n",
            "230 1999-03-01 00:00:00+00:00          2\n",
            "231 1999-04-01 00:00:00+00:00          8\n",
            "232 1999-05-01 00:00:00+00:00         12\n",
            "233 1999-06-01 00:00:00+00:00         13\n",
            "234 1999-07-01 00:00:00+00:00         21\n",
            "235 1999-08-01 00:00:00+00:00         22\n",
            "236 1999-09-01 00:00:00+00:00         14\n",
            "237 1999-10-01 00:00:00+00:00         15\n",
            "238 1999-11-01 00:00:00+00:00         31\n",
            "239 1999-12-01 00:00:00+00:00         55\n",
            "240 2000-01-01 00:00:00+00:00         89\n",
            "241 2000-02-01 00:00:00+00:00        104\n",
            "242 2000-03-01 00:00:00+00:00        116\n",
            "243 2000-04-01 00:00:00+00:00         92\n",
            "244 2000-05-01 00:00:00+00:00        157\n",
            "245 2000-06-01 00:00:00+00:00        176\n",
            "246 2000-07-01 00:00:00+00:00        180\n",
            "247 2000-08-01 00:00:00+00:00        268\n",
            "248 2000-09-01 00:00:00+00:00        312\n",
            "249 2000-10-01 00:00:00+00:00        403\n",
            "250 2000-11-01 00:00:00+00:00        625\n",
            "251 2000-12-01 00:00:00+00:00        517\n",
            "252 2001-01-01 00:00:00+00:00        325\n",
            "253 2001-02-01 00:00:00+00:00        345\n",
            "254 2001-03-01 00:00:00+00:00        407\n",
            "255 2001-04-01 00:00:00+00:00        587\n",
            "256 2001-05-01 00:00:00+00:00       1014\n",
            "257 2001-06-01 00:00:00+00:00        654\n",
            "258 2001-07-01 00:00:00+00:00        429\n",
            "259 2001-08-01 00:00:00+00:00        397\n",
            "260 2001-09-01 00:00:00+00:00        523\n",
            "261 2001-10-01 00:00:00+00:00       1711\n",
            "262 2001-11-01 00:00:00+00:00       1286\n",
            "263 2001-12-01 00:00:00+00:00        496\n",
            "264 2002-01-01 00:00:00+00:00        791\n",
            "265 2002-02-01 00:00:00+00:00        334\n",
            "266 2002-03-01 00:00:00+00:00         90\n",
            "267 2002-04-01 00:00:00+00:00         17\n",
            "268 2002-05-01 00:00:00+00:00         26\n",
            "269 2002-06-01 00:00:00+00:00         20\n"
          ]
        }
      ],
      "source": [
        "# Do a count of all documents matching a query by month\n",
        "doc = {\n",
        "    \"query\": {\n",
        "        \"match\" : {\n",
        "            \"text\" : \"important reporting\"\n",
        "        }\n",
        "    },\n",
        "    \"aggs\" : {\n",
        "        \"aggregation_var_name\" : {\n",
        "            \"date_histogram\" : {\n",
        "                \"field\" : \"date\",\n",
        "                \"interval\" : \"month\"\n",
        "            }\n",
        "        }\n",
        "    }\n",
        "}\n",
        "r=requests.get(host + 'enron/_search',\n",
        "               data=json.dumps(doc), headers={'Content-Type':'application/json'})\n",
        "r.raise_for_status()\n",
        "df = aggregation_to_df(r)\n",
        "print(df)"
      ]
    },
    {
      "cell_type": "code",
      "execution_count": 11,
      "metadata": {
        "colab": {
          "base_uri": "https://localhost:8080/",
          "height": 411
        },
        "id": "inNJYYxIGS4M",
        "outputId": "f71fd695-f7bc-42c5-b505-4b2535ad0e69"
      },
      "outputs": [
        {
          "name": "stdout",
          "output_type": "stream",
          "text": [
            "Found 16 messages matching the query, of \n",
            "Returned 10 messages\n",
            "____________________\n",
            "RE: FW: Information Request\n",
            "At: 2001-11-16 20:18:21+00:00\n",
            "From: tracy.geaccone@enron.com\n",
            "To: stephen.schwarzbach@enron.com\n",
            "CC: nan\n",
            "BCC: nan\n",
            "Body:\n",
            "\n",
            "\n",
            " -----Original Message-----\n",
            "From: \tWalker, Blake  \n",
            "Sent:\tFriday, November 16, 2001 1:57 PM\n",
            "To:\tGeaccone, Tracy\n",
            "Subject:\tRE: Information Request\n",
            "\n",
            "Tracy,\n",
            "\n",
            "Attached is the info request. I have populated 3 worksheets:\n",
            "\n",
            "EGS IS\n",
            "EGS Burn\n",
            "EGS Exp\n",
            "\n",
            "These are rough numbers and need polishing!\n",
            "\n",
            "Blake\n",
            "\n",
            " \n",
            "\n",
            "\n",
            "\n",
            "\n",
            "____________________\n"
          ]
        }
      ],
      "source": [
        "# Search an exact match in a specific feild\n",
        "doc = {\n",
        "    \"query\": {\n",
        "        \"match\" : {\n",
        "            \"recipients\" : \"stephen.schwarzbach@enron.com\"\n",
        "        } \n",
        "    },\n",
        "}\n",
        "r=requests.get(host + 'enron/_search',\n",
        "               data=json.dumps(doc), headers={'Content-Type':'application/json'})\n",
        "r.raise_for_status()\n",
        "print(\"Found %s messages matching the query, of \" % r.json()['hits']['total']['value'])\n",
        "df = elasticsearch_results_to_df(r)\n",
        "print(\"Returned %s messages\" % df.shape[0])\n",
        "print_df_row(df.iloc[0])"
      ]
    },
    {
      "cell_type": "code",
      "execution_count": null,
      "metadata": {
        "id": "FySeID6rGS4O"
      },
      "outputs": [],
      "source": []
    }
  ],
  "metadata": {
    "colab": {
      "collapsed_sections": [],
      "name": "Enron Query Elasticsearch.ipynb",
      "provenance": []
    },
    "kernelspec": {
      "display_name": "Python 3",
      "language": "python",
      "name": "python3"
    },
    "language_info": {
      "codemirror_mode": {
        "name": "ipython",
        "version": 3
      },
      "file_extension": ".py",
      "mimetype": "text/x-python",
      "name": "python",
      "nbconvert_exporter": "python",
      "pygments_lexer": "ipython3",
      "version": "3.9.13"
    }
  },
  "nbformat": 4,
  "nbformat_minor": 0
}
